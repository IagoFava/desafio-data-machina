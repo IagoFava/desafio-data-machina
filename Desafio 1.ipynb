{
 "cells": [
  {
   "cell_type": "code",
   "execution_count": 1,
   "metadata": {},
   "outputs": [
    {
     "name": "stdout",
     "output_type": "stream",
     "text": [
      "[-1.4260987375694496, -0.8964049207579399, -0.36671110394643, 0.16298271286507984, 0.6926765296765897, 0.16298271286507984, 0.6926765296765897, -0.36671110394643, 1.2223703464880995, 0.6926765296765897, 1.7520641632996095, -1.4260987375694496, -0.8964049207579399]\n"
     ]
    }
   ],
   "source": [
    "import array\n",
    "import statistics\n",
    "sequence = [1,2,3,4,5,4,5,3,6,5,7,1,2]\n",
    "result = []\n",
    "for i in sequence:\n",
    "    result.append((i - (sum(sequence)/len(sequence))) / statistics.stdev(sequence))\n",
    "\n",
    "print(result)"
   ]
  },
  {
   "cell_type": "code",
   "execution_count": null,
   "metadata": {},
   "outputs": [],
   "source": []
  }
 ],
 "metadata": {
  "kernelspec": {
   "display_name": "Python 3",
   "language": "python",
   "name": "python3"
  },
  "language_info": {
   "codemirror_mode": {
    "name": "ipython",
    "version": 3
   },
   "file_extension": ".py",
   "mimetype": "text/x-python",
   "name": "python",
   "nbconvert_exporter": "python",
   "pygments_lexer": "ipython3",
   "version": "3.8.3"
  }
 },
 "nbformat": 4,
 "nbformat_minor": 4
}
